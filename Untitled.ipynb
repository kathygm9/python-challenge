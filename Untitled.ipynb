{
 "cells": [
  {
   "cell_type": "code",
   "execution_count": 19,
   "id": "af44c791-fa1e-4fdf-a2ba-1145405e444b",
   "metadata": {},
   "outputs": [],
   "source": [
    "import os\n",
    "import csv\n"
   ]
  },
  {
   "cell_type": "code",
   "execution_count": 20,
   "id": "8bb8e3c1-a215-48a6-a934-4b057dca87ab",
   "metadata": {},
   "outputs": [],
   "source": [
    "# Lists to store data\n",
    "total_months = []\n",
    "total_amount = []\n",
    "average_change = []"
   ]
  },
  {
   "cell_type": "code",
   "execution_count": 21,
   "id": "23522f3c-9018-434e-90b5-9e95795e9621",
   "metadata": {},
   "outputs": [
    {
     "ename": "IndentationError",
     "evalue": "unexpected indent (2560150131.py, line 3)",
     "output_type": "error",
     "traceback": [
      "\u001b[1;36m  Cell \u001b[1;32mIn[21], line 3\u001b[1;36m\u001b[0m\n\u001b[1;33m    print(csvpath)\u001b[0m\n\u001b[1;37m    ^\u001b[0m\n\u001b[1;31mIndentationError\u001b[0m\u001b[1;31m:\u001b[0m unexpected indent\n"
     ]
    }
   ],
   "source": [
    "#csvpath = os.path.join(\"PyBank\",\"Resources\",\"budgetdata.csv\")\n",
    "csvpath = os.path.abspath(\"C:/Users/kgonz/OneDrive/Desktop/UNC_DA_Bootcamp/github repositories/Module 3_python-challenge/PyBank/Resources/budgetdata.csv\") print(csvpath)"
   ]
  },
  {
   "cell_type": "code",
   "execution_count": 22,
   "id": "9d4b943a-fe71-4067-a7ba-0059363191c6",
   "metadata": {},
   "outputs": [
    {
     "ename": "FileNotFoundError",
     "evalue": "[Errno 2] No such file or directory: 'C:\\\\PyBank\\\\Resources'",
     "output_type": "error",
     "traceback": [
      "\u001b[1;31m---------------------------------------------------------------------------\u001b[0m",
      "\u001b[1;31mFileNotFoundError\u001b[0m                         Traceback (most recent call last)",
      "Cell \u001b[1;32mIn[22], line 1\u001b[0m\n\u001b[1;32m----> 1\u001b[0m \u001b[38;5;28;01mwith\u001b[39;00m \u001b[38;5;28mopen\u001b[39m(csvpath, encoding\u001b[38;5;241m=\u001b[39m\u001b[38;5;124m\"\u001b[39m\u001b[38;5;124mUTF-8\u001b[39m\u001b[38;5;124m\"\u001b[39m) \u001b[38;5;28;01mas\u001b[39;00m csvfile:\n\u001b[0;32m      2\u001b[0m     csvreader \u001b[38;5;241m=\u001b[39m csv\u001b[38;5;241m.\u001b[39mreader(csvfile, delimiter\u001b[38;5;241m=\u001b[39m\u001b[38;5;124m\"\u001b[39m\u001b[38;5;124m,\u001b[39m\u001b[38;5;124m\"\u001b[39m)\n\u001b[0;32m      3\u001b[0m     \u001b[38;5;28mprint\u001b[39m(csvreader)\n",
      "File \u001b[1;32m~\\OneDrive\\Documents\\Anaconda\\Lib\\site-packages\\IPython\\core\\interactiveshell.py:310\u001b[0m, in \u001b[0;36m_modified_open\u001b[1;34m(file, *args, **kwargs)\u001b[0m\n\u001b[0;32m    303\u001b[0m \u001b[38;5;28;01mif\u001b[39;00m file \u001b[38;5;129;01min\u001b[39;00m {\u001b[38;5;241m0\u001b[39m, \u001b[38;5;241m1\u001b[39m, \u001b[38;5;241m2\u001b[39m}:\n\u001b[0;32m    304\u001b[0m     \u001b[38;5;28;01mraise\u001b[39;00m \u001b[38;5;167;01mValueError\u001b[39;00m(\n\u001b[0;32m    305\u001b[0m         \u001b[38;5;124mf\u001b[39m\u001b[38;5;124m\"\u001b[39m\u001b[38;5;124mIPython won\u001b[39m\u001b[38;5;124m'\u001b[39m\u001b[38;5;124mt let you open fd=\u001b[39m\u001b[38;5;132;01m{\u001b[39;00mfile\u001b[38;5;132;01m}\u001b[39;00m\u001b[38;5;124m by default \u001b[39m\u001b[38;5;124m\"\u001b[39m\n\u001b[0;32m    306\u001b[0m         \u001b[38;5;124m\"\u001b[39m\u001b[38;5;124mas it is likely to crash IPython. If you know what you are doing, \u001b[39m\u001b[38;5;124m\"\u001b[39m\n\u001b[0;32m    307\u001b[0m         \u001b[38;5;124m\"\u001b[39m\u001b[38;5;124myou can use builtins\u001b[39m\u001b[38;5;124m'\u001b[39m\u001b[38;5;124m open.\u001b[39m\u001b[38;5;124m\"\u001b[39m\n\u001b[0;32m    308\u001b[0m     )\n\u001b[1;32m--> 310\u001b[0m \u001b[38;5;28;01mreturn\u001b[39;00m io_open(file, \u001b[38;5;241m*\u001b[39margs, \u001b[38;5;241m*\u001b[39m\u001b[38;5;241m*\u001b[39mkwargs)\n",
      "\u001b[1;31mFileNotFoundError\u001b[0m: [Errno 2] No such file or directory: 'C:\\\\PyBank\\\\Resources'"
     ]
    }
   ],
   "source": [
    "with open(csvpath, encoding=\"UTF-8\") as csvfile:\n",
    "    csvreader = csv.reader(csvfile, delimiter=\",\")\n",
    "    print(csvreader)\n",
    "    csv_header = next(csvreader)\n",
    "    for row in csvreader:\n",
    "        total_months.append(row[0])\n",
    "        total_amount.append(int(row[1]))\n",
    "        #loop through each profit change to calculate average change \n",
    "    for i in range(len(total_amount)-1):\n",
    "       average_change.append(total_amount[i+1]-total_amount[i]) "
   ]
  },
  {
   "cell_type": "code",
   "execution_count": 23,
   "id": "1f9127dc-26d0-40f6-8691-9bf94868da2f",
   "metadata": {},
   "outputs": [
    {
     "ename": "ValueError",
     "evalue": "max() arg is an empty sequence",
     "output_type": "error",
     "traceback": [
      "\u001b[1;31m---------------------------------------------------------------------------\u001b[0m",
      "\u001b[1;31mValueError\u001b[0m                                Traceback (most recent call last)",
      "Cell \u001b[1;32mIn[23], line 1\u001b[0m\n\u001b[1;32m----> 1\u001b[0m greatest_increase \u001b[38;5;241m=\u001b[39m \u001b[38;5;28mmax\u001b[39m(average_change)\n\u001b[0;32m      2\u001b[0m greatest_decrease \u001b[38;5;241m=\u001b[39m \u001b[38;5;28mmin\u001b[39m(average_change)\n",
      "\u001b[1;31mValueError\u001b[0m: max() arg is an empty sequence"
     ]
    }
   ],
   "source": [
    "greatest_increase = max(average_change)\n",
    "greatest_decrease = min(average_change)"
   ]
  },
  {
   "cell_type": "code",
   "execution_count": 24,
   "id": "b1162e34-a6ce-4d7f-9f99-84ad0a35c599",
   "metadata": {},
   "outputs": [
    {
     "ename": "ValueError",
     "evalue": "max() arg is an empty sequence",
     "output_type": "error",
     "traceback": [
      "\u001b[1;31m---------------------------------------------------------------------------\u001b[0m",
      "\u001b[1;31mValueError\u001b[0m                                Traceback (most recent call last)",
      "Cell \u001b[1;32mIn[24], line 1\u001b[0m\n\u001b[1;32m----> 1\u001b[0m greatest_increase_month \u001b[38;5;241m=\u001b[39m average_change\u001b[38;5;241m.\u001b[39mindex(\u001b[38;5;28mmax\u001b[39m(average_change)) \u001b[38;5;241m+\u001b[39m \u001b[38;5;241m1\u001b[39m\n\u001b[0;32m      2\u001b[0m greatest_decrease_month \u001b[38;5;241m=\u001b[39m average_change\u001b[38;5;241m.\u001b[39mindex(\u001b[38;5;28mmin\u001b[39m(average_change)) \u001b[38;5;241m+\u001b[39m \u001b[38;5;241m1\u001b[39m\n",
      "\u001b[1;31mValueError\u001b[0m: max() arg is an empty sequence"
     ]
    }
   ],
   "source": [
    "\n",
    "greatest_increase_month = average_change.index(max(average_change)) + 1\n",
    "greatest_decrease_month = average_change.index(min(average_change)) + 1"
   ]
  },
  {
   "cell_type": "code",
   "execution_count": 25,
   "id": "bded40b6-0bb1-465c-a186-c3d29507fe5b",
   "metadata": {},
   "outputs": [
    {
     "name": "stdout",
     "output_type": "stream",
     "text": [
      "Financial Analysis\n",
      "-----------------------------\n",
      "Total Months : 0\n",
      "Total: $0\n"
     ]
    },
    {
     "ename": "ZeroDivisionError",
     "evalue": "division by zero",
     "output_type": "error",
     "traceback": [
      "\u001b[1;31m---------------------------------------------------------------------------\u001b[0m",
      "\u001b[1;31mZeroDivisionError\u001b[0m                         Traceback (most recent call last)",
      "Cell \u001b[1;32mIn[25], line 5\u001b[0m\n\u001b[0;32m      3\u001b[0m \u001b[38;5;28mprint\u001b[39m(\u001b[38;5;124mf\u001b[39m\u001b[38;5;124m\"\u001b[39m\u001b[38;5;124mTotal Months : \u001b[39m\u001b[38;5;132;01m{\u001b[39;00m\u001b[38;5;28mlen\u001b[39m(total_months)\u001b[38;5;132;01m}\u001b[39;00m\u001b[38;5;124m\"\u001b[39m)\n\u001b[0;32m      4\u001b[0m \u001b[38;5;28mprint\u001b[39m(\u001b[38;5;124mf\u001b[39m\u001b[38;5;124m\"\u001b[39m\u001b[38;5;124mTotal: $\u001b[39m\u001b[38;5;132;01m{\u001b[39;00m\u001b[38;5;28msum\u001b[39m(total_amount)\u001b[38;5;132;01m}\u001b[39;00m\u001b[38;5;124m\"\u001b[39m)\n\u001b[1;32m----> 5\u001b[0m \u001b[38;5;28mprint\u001b[39m(\u001b[38;5;124mf\u001b[39m\u001b[38;5;124m\"\u001b[39m\u001b[38;5;124mAverage Change: $\u001b[39m\u001b[38;5;132;01m{\u001b[39;00m\u001b[38;5;28mround\u001b[39m(\u001b[38;5;28msum\u001b[39m(average_change)\u001b[38;5;241m/\u001b[39m\u001b[38;5;28mlen\u001b[39m(average_change),\u001b[38;5;241m2\u001b[39m)\u001b[38;5;132;01m}\u001b[39;00m\u001b[38;5;124m\"\u001b[39m)\n\u001b[0;32m      6\u001b[0m \u001b[38;5;28mprint\u001b[39m(\u001b[38;5;124mf\u001b[39m\u001b[38;5;124m'\u001b[39m\u001b[38;5;124mGreatest Increase in Profits: \u001b[39m\u001b[38;5;132;01m{\u001b[39;00mtotal_months[greatest_increase_month]\u001b[38;5;132;01m}\u001b[39;00m\u001b[38;5;124m ($\u001b[39m\u001b[38;5;132;01m{\u001b[39;00m(\u001b[38;5;28mstr\u001b[39m(greatest_increase))\u001b[38;5;132;01m}\u001b[39;00m\u001b[38;5;124m'\u001b[39m)\n\u001b[0;32m      7\u001b[0m \u001b[38;5;28mprint\u001b[39m(\u001b[38;5;124mf\u001b[39m\u001b[38;5;124m'\u001b[39m\u001b[38;5;124mGreatest decrease in Profits: \u001b[39m\u001b[38;5;132;01m{\u001b[39;00mtotal_months[greatest_decrease_month]\u001b[38;5;132;01m}\u001b[39;00m\u001b[38;5;124m ($\u001b[39m\u001b[38;5;132;01m{\u001b[39;00m(\u001b[38;5;28mstr\u001b[39m(greatest_decrease))\u001b[38;5;132;01m}\u001b[39;00m\u001b[38;5;124m'\u001b[39m)\n",
      "\u001b[1;31mZeroDivisionError\u001b[0m: division by zero"
     ]
    }
   ],
   "source": [
    "print(\"Financial Analysis\")\n",
    "print(\"-----------------------------\")\n",
    "print(f\"Total Months : {len(total_months)}\")\n",
    "print(f\"Total: ${sum(total_amount)}\")\n",
    "print(f\"Average Change: ${round(sum(average_change)/len(average_change),2)}\")\n",
    "print(f'Greatest Increase in Profits: {total_months[greatest_increase_month]} (${(str(greatest_increase))}')\n",
    "print(f'Greatest decrease in Profits: {total_months[greatest_decrease_month]} (${(str(greatest_decrease))}')"
   ]
  },
  {
   "cell_type": "code",
   "execution_count": 26,
   "id": "fa5d1085-e4f9-41bd-90e5-4fdef636a785",
   "metadata": {},
   "outputs": [
    {
     "ename": "ZeroDivisionError",
     "evalue": "division by zero",
     "output_type": "error",
     "traceback": [
      "\u001b[1;31m---------------------------------------------------------------------------\u001b[0m",
      "\u001b[1;31mZeroDivisionError\u001b[0m                         Traceback (most recent call last)",
      "Cell \u001b[1;32mIn[26], line 13\u001b[0m\n\u001b[0;32m     11\u001b[0m file\u001b[38;5;241m.\u001b[39mwrite(\u001b[38;5;124mf\u001b[39m\u001b[38;5;124m\"\u001b[39m\u001b[38;5;124mTotal: $\u001b[39m\u001b[38;5;132;01m{\u001b[39;00m\u001b[38;5;28msum\u001b[39m(total_amount)\u001b[38;5;132;01m}\u001b[39;00m\u001b[38;5;124m\"\u001b[39m)\n\u001b[0;32m     12\u001b[0m file\u001b[38;5;241m.\u001b[39mwrite(\u001b[38;5;124m\"\u001b[39m\u001b[38;5;130;01m\\n\u001b[39;00m\u001b[38;5;124m\"\u001b[39m)\n\u001b[1;32m---> 13\u001b[0m file\u001b[38;5;241m.\u001b[39mwrite(\u001b[38;5;124mf\u001b[39m\u001b[38;5;124m\"\u001b[39m\u001b[38;5;124mAverage Change: $\u001b[39m\u001b[38;5;132;01m{\u001b[39;00m\u001b[38;5;28mround\u001b[39m(\u001b[38;5;28msum\u001b[39m(average_change)\u001b[38;5;241m/\u001b[39m\u001b[38;5;28mlen\u001b[39m(average_change),\u001b[38;5;241m2\u001b[39m)\u001b[38;5;132;01m}\u001b[39;00m\u001b[38;5;124m\"\u001b[39m)\n\u001b[0;32m     14\u001b[0m file\u001b[38;5;241m.\u001b[39mwrite(\u001b[38;5;124m\"\u001b[39m\u001b[38;5;130;01m\\n\u001b[39;00m\u001b[38;5;124m\"\u001b[39m)\n\u001b[0;32m     15\u001b[0m file\u001b[38;5;241m.\u001b[39mwrite(\u001b[38;5;124mf\u001b[39m\u001b[38;5;124m\"\u001b[39m\u001b[38;5;124mGreatest Increase in Profits: \u001b[39m\u001b[38;5;132;01m{\u001b[39;00mtotal_months[greatest_increase_month]\u001b[38;5;132;01m}\u001b[39;00m\u001b[38;5;124m ($\u001b[39m\u001b[38;5;132;01m{\u001b[39;00m(\u001b[38;5;28mstr\u001b[39m(greatest_increase))\u001b[38;5;132;01m}\u001b[39;00m\u001b[38;5;124m\"\u001b[39m)\n",
      "\u001b[1;31mZeroDivisionError\u001b[0m: division by zero"
     ]
    }
   ],
   "source": [
    "#analysis = os.path.join(\"PyBank\",\"Analysis\", \"Financial_Analysis.txt\")\n",
    "analysis = os.path.abspath(\"C:/Users/kgonz/OneDrive/Desktop/UNC_DA_Bootcamp/github repositories/Module 3_python-challenge/PyBank/Resources/Financial_Analysis.txt\")\n",
    "with open(analysis, \"w\") as file:\n",
    "\n",
    "    file.write(\"Financial Analysis\")\n",
    "    file.write(\"\\n\")\n",
    "    file.write(\"-----------------------------\")\n",
    "    file.write(\"\\n\")\n",
    "    file.write(f\"Total Months : {len(total_months)}\")\n",
    "    file.write(\"\\n\")\n",
    "    file.write(f\"Total: ${sum(total_amount)}\")\n",
    "    file.write(\"\\n\")\n",
    "    file.write(f\"Average Change: ${round(sum(average_change)/len(average_change),2)}\")\n",
    "    file.write(\"\\n\")\n",
    "    file.write(f\"Greatest Increase in Profits: {total_months[greatest_increase_month]} (${(str(greatest_increase))}\")\n",
    "    file.write(f\"Greatest decrease in Profits: {total_months[greatest_decrease_month]} (${(str(greatest_decrease))}\")"
   ]
  },
  {
   "cell_type": "code",
   "execution_count": null,
   "id": "df49ac0f-2785-44f2-85de-9aac944ca065",
   "metadata": {},
   "outputs": [],
   "source": []
  },
  {
   "cell_type": "code",
   "execution_count": null,
   "id": "22af8d86-7577-4f1f-8f0c-0a4d8a62dec1",
   "metadata": {},
   "outputs": [],
   "source": []
  },
  {
   "cell_type": "code",
   "execution_count": null,
   "id": "70c0bcad-68aa-412f-ae97-8ac626c9353e",
   "metadata": {},
   "outputs": [],
   "source": []
  },
  {
   "cell_type": "code",
   "execution_count": null,
   "id": "fdce3eb4-ba88-4ae9-8434-d9d6919854d5",
   "metadata": {},
   "outputs": [],
   "source": []
  }
 ],
 "metadata": {
  "kernelspec": {
   "display_name": "Python 3 (ipykernel)",
   "language": "python",
   "name": "python3"
  },
  "language_info": {
   "codemirror_mode": {
    "name": "ipython",
    "version": 3
   },
   "file_extension": ".py",
   "mimetype": "text/x-python",
   "name": "python",
   "nbconvert_exporter": "python",
   "pygments_lexer": "ipython3",
   "version": "3.11.5"
  }
 },
 "nbformat": 4,
 "nbformat_minor": 5
}
